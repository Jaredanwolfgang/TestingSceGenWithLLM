{
 "cells": [
  {
   "cell_type": "code",
   "execution_count": 20,
   "metadata": {},
   "outputs": [],
   "source": [
    "import sys\n",
    "import os\n",
    "import argparse\n",
    "import json\n",
    "import re\n",
    "import tokenize\n",
    "import io\n",
    "from io import BytesIO"
   ]
  },
  {
   "cell_type": "code",
   "execution_count": 9,
   "metadata": {},
   "outputs": [
    {
     "name": "stdout",
     "output_type": "stream",
     "text": [
      "['Hello,', 'how', 'are', 'you', 'doing?']\n",
      "['Hello', 'how', 'are', 'you', 'doing']\n"
     ]
    }
   ],
   "source": [
    "text = \"Hello, how are you doing?\"\n",
    "tokens = text.split()  # Split text by spaces\n",
    "print(tokens)\n",
    "\n",
    "text = \"Hello, how are you doing?\"\n",
    "tokens = re.findall(r'\\b\\w+\\b', text)  # Find all words\n",
    "print(tokens)"
   ]
  },
  {
   "cell_type": "code",
   "execution_count": 10,
   "metadata": {},
   "outputs": [
    {
     "name": "stdout",
     "output_type": "stream",
     "text": [
      "TokenInfo(type=63 (ENCODING), string='utf-8', start=(0, 0), end=(0, 0), line='')\n",
      "TokenInfo(type=1 (NAME), string='import', start=(1, 0), end=(1, 6), line='import sys\\n')\n",
      "TokenInfo(type=1 (NAME), string='sys', start=(1, 7), end=(1, 10), line='import sys\\n')\n",
      "TokenInfo(type=4 (NEWLINE), string='\\n', start=(1, 10), end=(1, 11), line='import sys\\n')\n",
      "TokenInfo(type=1 (NAME), string='print', start=(2, 0), end=(2, 5), line='print(sys.version)')\n",
      "TokenInfo(type=54 (OP), string='(', start=(2, 5), end=(2, 6), line='print(sys.version)')\n",
      "TokenInfo(type=1 (NAME), string='sys', start=(2, 6), end=(2, 9), line='print(sys.version)')\n",
      "TokenInfo(type=54 (OP), string='.', start=(2, 9), end=(2, 10), line='print(sys.version)')\n",
      "TokenInfo(type=1 (NAME), string='version', start=(2, 10), end=(2, 17), line='print(sys.version)')\n",
      "TokenInfo(type=54 (OP), string=')', start=(2, 17), end=(2, 18), line='print(sys.version)')\n",
      "TokenInfo(type=4 (NEWLINE), string='', start=(2, 18), end=(2, 19), line='')\n",
      "TokenInfo(type=0 (ENDMARKER), string='', start=(3, 0), end=(3, 0), line='')\n"
     ]
    }
   ],
   "source": [
    "# Python code as a string\n",
    "code = \"import sys\\nprint(sys.version)\"\n",
    "\n",
    "# Convert the string code to bytes and wrap in a BytesIO stream\n",
    "bytes_io = io.BytesIO(code.encode('utf-8'))\n",
    "\n",
    "# Use tokenize to read the tokens\n",
    "for token in tokenize.tokenize(bytes_io.readline):\n",
    "    print(token)"
   ]
  },
  {
   "cell_type": "code",
   "execution_count": 32,
   "metadata": {},
   "outputs": [
    {
     "name": "stdout",
     "output_type": "stream",
     "text": [
      "[TokenInfo(type=63 (ENCODING), string='utf-8', start=(0, 0), end=(0, 0), line=''), TokenInfo(type=3 (STRING), string='\"\"\" Scenario Description\\nTraffic Scenario 01.\\nControl loss without previous action.\\nThe ego-vehicle loses control due to bad conditions on the road and it must recover, coming back to\\nits original lane.\\n\"\"\"', start=(1, 0), end=(6, 3), line='\"\"\" Scenario Description\\nTraffic Scenario 01.\\nControl loss without previous action.\\nThe ego-vehicle loses control due to bad conditions on the road and it must recover, coming back to\\nits original lane.\\n\"\"\"\\n'), TokenInfo(type=4 (NEWLINE), string='\\n', start=(6, 3), end=(6, 4), line='\"\"\"\\n'), TokenInfo(type=62 (NL), string='\\n', start=(7, 0), end=(7, 1), line='\\n'), TokenInfo(type=61 (COMMENT), string='## SET MAP AND MODEL (i.e. definitions of all referenceable vehicle types, road library, etc)', start=(8, 0), end=(8, 93), line='## SET MAP AND MODEL (i.e. definitions of all referenceable vehicle types, road library, etc)\\n'), TokenInfo(type=62 (NL), string='\\n', start=(8, 93), end=(8, 94), line='## SET MAP AND MODEL (i.e. definitions of all referenceable vehicle types, road library, etc)\\n'), TokenInfo(type=1 (NAME), string='param', start=(9, 0), end=(9, 5), line=\"param map = localPath('../../../assets/maps/CARLA/Town01.xodr')\\n\"), TokenInfo(type=1 (NAME), string='map', start=(9, 6), end=(9, 9), line=\"param map = localPath('../../../assets/maps/CARLA/Town01.xodr')\\n\"), TokenInfo(type=54 (OP), string='=', start=(9, 10), end=(9, 11), line=\"param map = localPath('../../../assets/maps/CARLA/Town01.xodr')\\n\"), TokenInfo(type=1 (NAME), string='localPath', start=(9, 12), end=(9, 21), line=\"param map = localPath('../../../assets/maps/CARLA/Town01.xodr')\\n\"), TokenInfo(type=54 (OP), string='(', start=(9, 21), end=(9, 22), line=\"param map = localPath('../../../assets/maps/CARLA/Town01.xodr')\\n\"), TokenInfo(type=3 (STRING), string=\"'../../../assets/maps/CARLA/Town01.xodr'\", start=(9, 22), end=(9, 62), line=\"param map = localPath('../../../assets/maps/CARLA/Town01.xodr')\\n\"), TokenInfo(type=54 (OP), string=')', start=(9, 62), end=(9, 63), line=\"param map = localPath('../../../assets/maps/CARLA/Town01.xodr')\\n\"), TokenInfo(type=4 (NEWLINE), string='\\n', start=(9, 63), end=(9, 64), line=\"param map = localPath('../../../assets/maps/CARLA/Town01.xodr')\\n\"), TokenInfo(type=1 (NAME), string='param', start=(10, 0), end=(10, 5), line=\"param carla_map = 'Town01'\\n\"), TokenInfo(type=1 (NAME), string='carla_map', start=(10, 6), end=(10, 15), line=\"param carla_map = 'Town01'\\n\"), TokenInfo(type=54 (OP), string='=', start=(10, 16), end=(10, 17), line=\"param carla_map = 'Town01'\\n\"), TokenInfo(type=3 (STRING), string=\"'Town01'\", start=(10, 18), end=(10, 26), line=\"param carla_map = 'Town01'\\n\"), TokenInfo(type=4 (NEWLINE), string='\\n', start=(10, 26), end=(10, 27), line=\"param carla_map = 'Town01'\\n\"), TokenInfo(type=1 (NAME), string='model', start=(11, 0), end=(11, 5), line='model scenic.simulators.carla.model\\n'), TokenInfo(type=1 (NAME), string='scenic', start=(11, 6), end=(11, 12), line='model scenic.simulators.carla.model\\n'), TokenInfo(type=54 (OP), string='.', start=(11, 12), end=(11, 13), line='model scenic.simulators.carla.model\\n'), TokenInfo(type=1 (NAME), string='simulators', start=(11, 13), end=(11, 23), line='model scenic.simulators.carla.model\\n'), TokenInfo(type=54 (OP), string='.', start=(11, 23), end=(11, 24), line='model scenic.simulators.carla.model\\n'), TokenInfo(type=1 (NAME), string='carla', start=(11, 24), end=(11, 29), line='model scenic.simulators.carla.model\\n'), TokenInfo(type=54 (OP), string='.', start=(11, 29), end=(11, 30), line='model scenic.simulators.carla.model\\n'), TokenInfo(type=1 (NAME), string='model', start=(11, 30), end=(11, 35), line='model scenic.simulators.carla.model\\n'), TokenInfo(type=4 (NEWLINE), string='\\n', start=(11, 35), end=(11, 36), line='model scenic.simulators.carla.model\\n'), TokenInfo(type=62 (NL), string='\\n', start=(12, 0), end=(12, 1), line='\\n'), TokenInfo(type=61 (COMMENT), string='## CONSTANTS', start=(13, 0), end=(13, 12), line='## CONSTANTS\\n'), TokenInfo(type=62 (NL), string='\\n', start=(13, 12), end=(13, 13), line='## CONSTANTS\\n'), TokenInfo(type=1 (NAME), string='EGO_MODEL', start=(14, 0), end=(14, 9), line='EGO_MODEL = \"vehicle.lincoln.mkz_2017\"\\n'), TokenInfo(type=54 (OP), string='=', start=(14, 10), end=(14, 11), line='EGO_MODEL = \"vehicle.lincoln.mkz_2017\"\\n'), TokenInfo(type=3 (STRING), string='\"vehicle.lincoln.mkz_2017\"', start=(14, 12), end=(14, 38), line='EGO_MODEL = \"vehicle.lincoln.mkz_2017\"\\n'), TokenInfo(type=4 (NEWLINE), string='\\n', start=(14, 38), end=(14, 39), line='EGO_MODEL = \"vehicle.lincoln.mkz_2017\"\\n'), TokenInfo(type=1 (NAME), string='EGO_SPEED', start=(15, 0), end=(15, 9), line='EGO_SPEED = 10\\n'), TokenInfo(type=54 (OP), string='=', start=(15, 10), end=(15, 11), line='EGO_SPEED = 10\\n'), TokenInfo(type=2 (NUMBER), string='10', start=(15, 12), end=(15, 14), line='EGO_SPEED = 10\\n'), TokenInfo(type=4 (NEWLINE), string='\\n', start=(15, 14), end=(15, 15), line='EGO_SPEED = 10\\n'), TokenInfo(type=62 (NL), string='\\n', start=(16, 0), end=(16, 1), line='\\n'), TokenInfo(type=61 (COMMENT), string='## DEFINING BEHAVIORS', start=(17, 0), end=(17, 21), line='## DEFINING BEHAVIORS\\n'), TokenInfo(type=62 (NL), string='\\n', start=(17, 21), end=(17, 22), line='## DEFINING BEHAVIORS\\n'), TokenInfo(type=61 (COMMENT), string='# EGO BEHAVIOR: Follow lane, and brake after passing a threshold distance to the leading car', start=(18, 0), end=(18, 92), line='# EGO BEHAVIOR: Follow lane, and brake after passing a threshold distance to the leading car\\n'), TokenInfo(type=62 (NL), string='\\n', start=(18, 92), end=(18, 93), line='# EGO BEHAVIOR: Follow lane, and brake after passing a threshold distance to the leading car\\n'), TokenInfo(type=1 (NAME), string='behavior', start=(19, 0), end=(19, 8), line='behavior EgoBehavior(speed=10):\\n'), TokenInfo(type=1 (NAME), string='EgoBehavior', start=(19, 9), end=(19, 20), line='behavior EgoBehavior(speed=10):\\n'), TokenInfo(type=54 (OP), string='(', start=(19, 20), end=(19, 21), line='behavior EgoBehavior(speed=10):\\n'), TokenInfo(type=1 (NAME), string='speed', start=(19, 21), end=(19, 26), line='behavior EgoBehavior(speed=10):\\n'), TokenInfo(type=54 (OP), string='=', start=(19, 26), end=(19, 27), line='behavior EgoBehavior(speed=10):\\n'), TokenInfo(type=2 (NUMBER), string='10', start=(19, 27), end=(19, 29), line='behavior EgoBehavior(speed=10):\\n'), TokenInfo(type=54 (OP), string=')', start=(19, 29), end=(19, 30), line='behavior EgoBehavior(speed=10):\\n'), TokenInfo(type=54 (OP), string=':', start=(19, 30), end=(19, 31), line='behavior EgoBehavior(speed=10):\\n'), TokenInfo(type=4 (NEWLINE), string='\\n', start=(19, 31), end=(19, 32), line='behavior EgoBehavior(speed=10):\\n'), TokenInfo(type=5 (INDENT), string='    ', start=(20, 0), end=(20, 4), line='    do FollowLaneBehavior(speed)\\n'), TokenInfo(type=1 (NAME), string='do', start=(20, 4), end=(20, 6), line='    do FollowLaneBehavior(speed)\\n'), TokenInfo(type=1 (NAME), string='FollowLaneBehavior', start=(20, 7), end=(20, 25), line='    do FollowLaneBehavior(speed)\\n'), TokenInfo(type=54 (OP), string='(', start=(20, 25), end=(20, 26), line='    do FollowLaneBehavior(speed)\\n'), TokenInfo(type=1 (NAME), string='speed', start=(20, 26), end=(20, 31), line='    do FollowLaneBehavior(speed)\\n'), TokenInfo(type=54 (OP), string=')', start=(20, 31), end=(20, 32), line='    do FollowLaneBehavior(speed)\\n'), TokenInfo(type=4 (NEWLINE), string='\\n', start=(20, 32), end=(20, 33), line='    do FollowLaneBehavior(speed)\\n'), TokenInfo(type=62 (NL), string='\\n', start=(21, 0), end=(21, 1), line='\\n'), TokenInfo(type=61 (COMMENT), string='## DEFINING SPATIAL RELATIONS', start=(22, 0), end=(22, 29), line='## DEFINING SPATIAL RELATIONS\\n'), TokenInfo(type=62 (NL), string='\\n', start=(22, 29), end=(22, 30), line='## DEFINING SPATIAL RELATIONS\\n'), TokenInfo(type=61 (COMMENT), string='# Please refer to scenic/domains/driving/roads.py how to access detailed road infrastructure', start=(23, 0), end=(23, 92), line='# Please refer to scenic/domains/driving/roads.py how to access detailed road infrastructure\\n'), TokenInfo(type=62 (NL), string='\\n', start=(23, 92), end=(23, 93), line='# Please refer to scenic/domains/driving/roads.py how to access detailed road infrastructure\\n'), TokenInfo(type=61 (COMMENT), string=\"# 'network' is the 'class Network' object in roads.py\", start=(24, 0), end=(24, 53), line=\"# 'network' is the 'class Network' object in roads.py\\n\"), TokenInfo(type=62 (NL), string='\\n', start=(24, 53), end=(24, 54), line=\"# 'network' is the 'class Network' object in roads.py\\n\"), TokenInfo(type=62 (NL), string='\\n', start=(25, 0), end=(25, 1), line='\\n'), TokenInfo(type=61 (COMMENT), string=\"# make sure to put '*' to uniformly randomly select from all elements of the list, 'lanes'\", start=(26, 0), end=(26, 90), line=\"# make sure to put '*' to uniformly randomly select from all elements of the list, 'lanes'\\n\"), TokenInfo(type=62 (NL), string='\\n', start=(26, 90), end=(26, 91), line=\"# make sure to put '*' to uniformly randomly select from all elements of the list, 'lanes'\\n\"), TokenInfo(type=6 (DEDENT), string='', start=(27, 0), end=(27, 0), line='lane = Uniform(*network.lanes)\\n'), TokenInfo(type=1 (NAME), string='lane', start=(27, 0), end=(27, 4), line='lane = Uniform(*network.lanes)\\n'), TokenInfo(type=54 (OP), string='=', start=(27, 5), end=(27, 6), line='lane = Uniform(*network.lanes)\\n'), TokenInfo(type=1 (NAME), string='Uniform', start=(27, 7), end=(27, 14), line='lane = Uniform(*network.lanes)\\n'), TokenInfo(type=54 (OP), string='(', start=(27, 14), end=(27, 15), line='lane = Uniform(*network.lanes)\\n'), TokenInfo(type=54 (OP), string='*', start=(27, 15), end=(27, 16), line='lane = Uniform(*network.lanes)\\n'), TokenInfo(type=1 (NAME), string='network', start=(27, 16), end=(27, 23), line='lane = Uniform(*network.lanes)\\n'), TokenInfo(type=54 (OP), string='.', start=(27, 23), end=(27, 24), line='lane = Uniform(*network.lanes)\\n'), TokenInfo(type=1 (NAME), string='lanes', start=(27, 24), end=(27, 29), line='lane = Uniform(*network.lanes)\\n'), TokenInfo(type=54 (OP), string=')', start=(27, 29), end=(27, 30), line='lane = Uniform(*network.lanes)\\n'), TokenInfo(type=4 (NEWLINE), string='\\n', start=(27, 30), end=(27, 31), line='lane = Uniform(*network.lanes)\\n'), TokenInfo(type=62 (NL), string='\\n', start=(28, 0), end=(28, 1), line='\\n'), TokenInfo(type=1 (NAME), string='start', start=(29, 0), end=(29, 5), line='start = new OrientedPoint on lane.centerline\\n'), TokenInfo(type=54 (OP), string='=', start=(29, 6), end=(29, 7), line='start = new OrientedPoint on lane.centerline\\n'), TokenInfo(type=1 (NAME), string='new', start=(29, 8), end=(29, 11), line='start = new OrientedPoint on lane.centerline\\n'), TokenInfo(type=1 (NAME), string='OrientedPoint', start=(29, 12), end=(29, 25), line='start = new OrientedPoint on lane.centerline\\n'), TokenInfo(type=1 (NAME), string='on', start=(29, 26), end=(29, 28), line='start = new OrientedPoint on lane.centerline\\n'), TokenInfo(type=1 (NAME), string='lane', start=(29, 29), end=(29, 33), line='start = new OrientedPoint on lane.centerline\\n'), TokenInfo(type=54 (OP), string='.', start=(29, 33), end=(29, 34), line='start = new OrientedPoint on lane.centerline\\n'), TokenInfo(type=1 (NAME), string='centerline', start=(29, 34), end=(29, 44), line='start = new OrientedPoint on lane.centerline\\n'), TokenInfo(type=4 (NEWLINE), string='\\n', start=(29, 44), end=(29, 45), line='start = new OrientedPoint on lane.centerline\\n'), TokenInfo(type=1 (NAME), string='ego', start=(30, 0), end=(30, 3), line='ego = new Car at start,\\n'), TokenInfo(type=54 (OP), string='=', start=(30, 4), end=(30, 5), line='ego = new Car at start,\\n'), TokenInfo(type=1 (NAME), string='new', start=(30, 6), end=(30, 9), line='ego = new Car at start,\\n'), TokenInfo(type=1 (NAME), string='Car', start=(30, 10), end=(30, 13), line='ego = new Car at start,\\n'), TokenInfo(type=1 (NAME), string='at', start=(30, 14), end=(30, 16), line='ego = new Car at start,\\n'), TokenInfo(type=1 (NAME), string='start', start=(30, 17), end=(30, 22), line='ego = new Car at start,\\n'), TokenInfo(type=54 (OP), string=',', start=(30, 22), end=(30, 23), line='ego = new Car at start,\\n'), TokenInfo(type=4 (NEWLINE), string='\\n', start=(30, 23), end=(30, 24), line='ego = new Car at start,\\n'), TokenInfo(type=5 (INDENT), string='    ', start=(31, 0), end=(31, 4), line='    with blueprint EGO_MODEL,\\n'), TokenInfo(type=1 (NAME), string='with', start=(31, 4), end=(31, 8), line='    with blueprint EGO_MODEL,\\n'), TokenInfo(type=1 (NAME), string='blueprint', start=(31, 9), end=(31, 18), line='    with blueprint EGO_MODEL,\\n'), TokenInfo(type=1 (NAME), string='EGO_MODEL', start=(31, 19), end=(31, 28), line='    with blueprint EGO_MODEL,\\n'), TokenInfo(type=54 (OP), string=',', start=(31, 28), end=(31, 29), line='    with blueprint EGO_MODEL,\\n'), TokenInfo(type=4 (NEWLINE), string='\\n', start=(31, 29), end=(31, 30), line='    with blueprint EGO_MODEL,\\n'), TokenInfo(type=1 (NAME), string='with', start=(32, 4), end=(32, 8), line='    with behavior EgoBehavior(EGO_SPEED)\\n'), TokenInfo(type=1 (NAME), string='behavior', start=(32, 9), end=(32, 17), line='    with behavior EgoBehavior(EGO_SPEED)\\n'), TokenInfo(type=1 (NAME), string='EgoBehavior', start=(32, 18), end=(32, 29), line='    with behavior EgoBehavior(EGO_SPEED)\\n'), TokenInfo(type=54 (OP), string='(', start=(32, 29), end=(32, 30), line='    with behavior EgoBehavior(EGO_SPEED)\\n'), TokenInfo(type=1 (NAME), string='EGO_SPEED', start=(32, 30), end=(32, 39), line='    with behavior EgoBehavior(EGO_SPEED)\\n'), TokenInfo(type=54 (OP), string=')', start=(32, 39), end=(32, 40), line='    with behavior EgoBehavior(EGO_SPEED)\\n'), TokenInfo(type=4 (NEWLINE), string='\\n', start=(32, 40), end=(32, 41), line='    with behavior EgoBehavior(EGO_SPEED)\\n'), TokenInfo(type=62 (NL), string='\\n', start=(33, 0), end=(33, 1), line='\\n'), TokenInfo(type=6 (DEDENT), string='', start=(34, 0), end=(34, 0), line='debris1 = new Debris following roadDirection for Range(10, 20)\\n'), TokenInfo(type=1 (NAME), string='debris1', start=(34, 0), end=(34, 7), line='debris1 = new Debris following roadDirection for Range(10, 20)\\n'), TokenInfo(type=54 (OP), string='=', start=(34, 8), end=(34, 9), line='debris1 = new Debris following roadDirection for Range(10, 20)\\n'), TokenInfo(type=1 (NAME), string='new', start=(34, 10), end=(34, 13), line='debris1 = new Debris following roadDirection for Range(10, 20)\\n'), TokenInfo(type=1 (NAME), string='Debris', start=(34, 14), end=(34, 20), line='debris1 = new Debris following roadDirection for Range(10, 20)\\n'), TokenInfo(type=1 (NAME), string='following', start=(34, 21), end=(34, 30), line='debris1 = new Debris following roadDirection for Range(10, 20)\\n'), TokenInfo(type=1 (NAME), string='roadDirection', start=(34, 31), end=(34, 44), line='debris1 = new Debris following roadDirection for Range(10, 20)\\n'), TokenInfo(type=1 (NAME), string='for', start=(34, 45), end=(34, 48), line='debris1 = new Debris following roadDirection for Range(10, 20)\\n'), TokenInfo(type=1 (NAME), string='Range', start=(34, 49), end=(34, 54), line='debris1 = new Debris following roadDirection for Range(10, 20)\\n'), TokenInfo(type=54 (OP), string='(', start=(34, 54), end=(34, 55), line='debris1 = new Debris following roadDirection for Range(10, 20)\\n'), TokenInfo(type=2 (NUMBER), string='10', start=(34, 55), end=(34, 57), line='debris1 = new Debris following roadDirection for Range(10, 20)\\n'), TokenInfo(type=54 (OP), string=',', start=(34, 57), end=(34, 58), line='debris1 = new Debris following roadDirection for Range(10, 20)\\n'), TokenInfo(type=2 (NUMBER), string='20', start=(34, 59), end=(34, 61), line='debris1 = new Debris following roadDirection for Range(10, 20)\\n'), TokenInfo(type=54 (OP), string=')', start=(34, 61), end=(34, 62), line='debris1 = new Debris following roadDirection for Range(10, 20)\\n'), TokenInfo(type=4 (NEWLINE), string='\\n', start=(34, 62), end=(34, 63), line='debris1 = new Debris following roadDirection for Range(10, 20)\\n'), TokenInfo(type=1 (NAME), string='debris2', start=(35, 0), end=(35, 7), line='debris2 = new Debris following roadDirection from debris1 for Range(5, 10)\\n'), TokenInfo(type=54 (OP), string='=', start=(35, 8), end=(35, 9), line='debris2 = new Debris following roadDirection from debris1 for Range(5, 10)\\n'), TokenInfo(type=1 (NAME), string='new', start=(35, 10), end=(35, 13), line='debris2 = new Debris following roadDirection from debris1 for Range(5, 10)\\n'), TokenInfo(type=1 (NAME), string='Debris', start=(35, 14), end=(35, 20), line='debris2 = new Debris following roadDirection from debris1 for Range(5, 10)\\n'), TokenInfo(type=1 (NAME), string='following', start=(35, 21), end=(35, 30), line='debris2 = new Debris following roadDirection from debris1 for Range(5, 10)\\n'), TokenInfo(type=1 (NAME), string='roadDirection', start=(35, 31), end=(35, 44), line='debris2 = new Debris following roadDirection from debris1 for Range(5, 10)\\n'), TokenInfo(type=1 (NAME), string='from', start=(35, 45), end=(35, 49), line='debris2 = new Debris following roadDirection from debris1 for Range(5, 10)\\n'), TokenInfo(type=1 (NAME), string='debris1', start=(35, 50), end=(35, 57), line='debris2 = new Debris following roadDirection from debris1 for Range(5, 10)\\n'), TokenInfo(type=1 (NAME), string='for', start=(35, 58), end=(35, 61), line='debris2 = new Debris following roadDirection from debris1 for Range(5, 10)\\n'), TokenInfo(type=1 (NAME), string='Range', start=(35, 62), end=(35, 67), line='debris2 = new Debris following roadDirection from debris1 for Range(5, 10)\\n'), TokenInfo(type=54 (OP), string='(', start=(35, 67), end=(35, 68), line='debris2 = new Debris following roadDirection from debris1 for Range(5, 10)\\n'), TokenInfo(type=2 (NUMBER), string='5', start=(35, 68), end=(35, 69), line='debris2 = new Debris following roadDirection from debris1 for Range(5, 10)\\n'), TokenInfo(type=54 (OP), string=',', start=(35, 69), end=(35, 70), line='debris2 = new Debris following roadDirection from debris1 for Range(5, 10)\\n'), TokenInfo(type=2 (NUMBER), string='10', start=(35, 71), end=(35, 73), line='debris2 = new Debris following roadDirection from debris1 for Range(5, 10)\\n'), TokenInfo(type=54 (OP), string=')', start=(35, 73), end=(35, 74), line='debris2 = new Debris following roadDirection from debris1 for Range(5, 10)\\n'), TokenInfo(type=4 (NEWLINE), string='\\n', start=(35, 74), end=(35, 75), line='debris2 = new Debris following roadDirection from debris1 for Range(5, 10)\\n'), TokenInfo(type=1 (NAME), string='debris3', start=(36, 0), end=(36, 7), line='debris3 = new Debris following roadDirection from debris2 for Range(5, 10)\\n'), TokenInfo(type=54 (OP), string='=', start=(36, 8), end=(36, 9), line='debris3 = new Debris following roadDirection from debris2 for Range(5, 10)\\n'), TokenInfo(type=1 (NAME), string='new', start=(36, 10), end=(36, 13), line='debris3 = new Debris following roadDirection from debris2 for Range(5, 10)\\n'), TokenInfo(type=1 (NAME), string='Debris', start=(36, 14), end=(36, 20), line='debris3 = new Debris following roadDirection from debris2 for Range(5, 10)\\n'), TokenInfo(type=1 (NAME), string='following', start=(36, 21), end=(36, 30), line='debris3 = new Debris following roadDirection from debris2 for Range(5, 10)\\n'), TokenInfo(type=1 (NAME), string='roadDirection', start=(36, 31), end=(36, 44), line='debris3 = new Debris following roadDirection from debris2 for Range(5, 10)\\n'), TokenInfo(type=1 (NAME), string='from', start=(36, 45), end=(36, 49), line='debris3 = new Debris following roadDirection from debris2 for Range(5, 10)\\n'), TokenInfo(type=1 (NAME), string='debris2', start=(36, 50), end=(36, 57), line='debris3 = new Debris following roadDirection from debris2 for Range(5, 10)\\n'), TokenInfo(type=1 (NAME), string='for', start=(36, 58), end=(36, 61), line='debris3 = new Debris following roadDirection from debris2 for Range(5, 10)\\n'), TokenInfo(type=1 (NAME), string='Range', start=(36, 62), end=(36, 67), line='debris3 = new Debris following roadDirection from debris2 for Range(5, 10)\\n'), TokenInfo(type=54 (OP), string='(', start=(36, 67), end=(36, 68), line='debris3 = new Debris following roadDirection from debris2 for Range(5, 10)\\n'), TokenInfo(type=2 (NUMBER), string='5', start=(36, 68), end=(36, 69), line='debris3 = new Debris following roadDirection from debris2 for Range(5, 10)\\n'), TokenInfo(type=54 (OP), string=',', start=(36, 69), end=(36, 70), line='debris3 = new Debris following roadDirection from debris2 for Range(5, 10)\\n'), TokenInfo(type=2 (NUMBER), string='10', start=(36, 71), end=(36, 73), line='debris3 = new Debris following roadDirection from debris2 for Range(5, 10)\\n'), TokenInfo(type=54 (OP), string=')', start=(36, 73), end=(36, 74), line='debris3 = new Debris following roadDirection from debris2 for Range(5, 10)\\n'), TokenInfo(type=4 (NEWLINE), string='\\n', start=(36, 74), end=(36, 75), line='debris3 = new Debris following roadDirection from debris2 for Range(5, 10)\\n'), TokenInfo(type=62 (NL), string='\\n', start=(37, 0), end=(37, 1), line='\\n'), TokenInfo(type=1 (NAME), string='require', start=(38, 0), end=(38, 7), line='require (distance to intersection) > 50\\n'), TokenInfo(type=54 (OP), string='(', start=(38, 8), end=(38, 9), line='require (distance to intersection) > 50\\n'), TokenInfo(type=1 (NAME), string='distance', start=(38, 9), end=(38, 17), line='require (distance to intersection) > 50\\n'), TokenInfo(type=1 (NAME), string='to', start=(38, 18), end=(38, 20), line='require (distance to intersection) > 50\\n'), TokenInfo(type=1 (NAME), string='intersection', start=(38, 21), end=(38, 33), line='require (distance to intersection) > 50\\n'), TokenInfo(type=54 (OP), string=')', start=(38, 33), end=(38, 34), line='require (distance to intersection) > 50\\n'), TokenInfo(type=54 (OP), string='>', start=(38, 35), end=(38, 36), line='require (distance to intersection) > 50\\n'), TokenInfo(type=2 (NUMBER), string='50', start=(38, 37), end=(38, 39), line='require (distance to intersection) > 50\\n'), TokenInfo(type=4 (NEWLINE), string='\\n', start=(38, 39), end=(38, 40), line='require (distance to intersection) > 50\\n'), TokenInfo(type=1 (NAME), string='terminate', start=(39, 0), end=(39, 9), line='terminate when (distance from debris3 to ego) > 10 and (distance to start) > 50\\n'), TokenInfo(type=1 (NAME), string='when', start=(39, 10), end=(39, 14), line='terminate when (distance from debris3 to ego) > 10 and (distance to start) > 50\\n'), TokenInfo(type=54 (OP), string='(', start=(39, 15), end=(39, 16), line='terminate when (distance from debris3 to ego) > 10 and (distance to start) > 50\\n'), TokenInfo(type=1 (NAME), string='distance', start=(39, 16), end=(39, 24), line='terminate when (distance from debris3 to ego) > 10 and (distance to start) > 50\\n'), TokenInfo(type=1 (NAME), string='from', start=(39, 25), end=(39, 29), line='terminate when (distance from debris3 to ego) > 10 and (distance to start) > 50\\n'), TokenInfo(type=1 (NAME), string='debris3', start=(39, 30), end=(39, 37), line='terminate when (distance from debris3 to ego) > 10 and (distance to start) > 50\\n'), TokenInfo(type=1 (NAME), string='to', start=(39, 38), end=(39, 40), line='terminate when (distance from debris3 to ego) > 10 and (distance to start) > 50\\n'), TokenInfo(type=1 (NAME), string='ego', start=(39, 41), end=(39, 44), line='terminate when (distance from debris3 to ego) > 10 and (distance to start) > 50\\n'), TokenInfo(type=54 (OP), string=')', start=(39, 44), end=(39, 45), line='terminate when (distance from debris3 to ego) > 10 and (distance to start) > 50\\n'), TokenInfo(type=54 (OP), string='>', start=(39, 46), end=(39, 47), line='terminate when (distance from debris3 to ego) > 10 and (distance to start) > 50\\n'), TokenInfo(type=2 (NUMBER), string='10', start=(39, 48), end=(39, 50), line='terminate when (distance from debris3 to ego) > 10 and (distance to start) > 50\\n'), TokenInfo(type=1 (NAME), string='and', start=(39, 51), end=(39, 54), line='terminate when (distance from debris3 to ego) > 10 and (distance to start) > 50\\n'), TokenInfo(type=54 (OP), string='(', start=(39, 55), end=(39, 56), line='terminate when (distance from debris3 to ego) > 10 and (distance to start) > 50\\n'), TokenInfo(type=1 (NAME), string='distance', start=(39, 56), end=(39, 64), line='terminate when (distance from debris3 to ego) > 10 and (distance to start) > 50\\n'), TokenInfo(type=1 (NAME), string='to', start=(39, 65), end=(39, 67), line='terminate when (distance from debris3 to ego) > 10 and (distance to start) > 50\\n'), TokenInfo(type=1 (NAME), string='start', start=(39, 68), end=(39, 73), line='terminate when (distance from debris3 to ego) > 10 and (distance to start) > 50\\n'), TokenInfo(type=54 (OP), string=')', start=(39, 73), end=(39, 74), line='terminate when (distance from debris3 to ego) > 10 and (distance to start) > 50\\n'), TokenInfo(type=54 (OP), string='>', start=(39, 75), end=(39, 76), line='terminate when (distance from debris3 to ego) > 10 and (distance to start) > 50\\n'), TokenInfo(type=2 (NUMBER), string='50', start=(39, 77), end=(39, 79), line='terminate when (distance from debris3 to ego) > 10 and (distance to start) > 50\\n'), TokenInfo(type=4 (NEWLINE), string='\\n', start=(39, 79), end=(39, 80), line='terminate when (distance from debris3 to ego) > 10 and (distance to start) > 50\\n'), TokenInfo(type=0 (ENDMARKER), string='', start=(40, 0), end=(40, 0), line='')]\n"
     ]
    }
   ],
   "source": [
    "import ast\n",
    "\n",
    "def convert_file(in_file_name, output_dir):\n",
    "    base_file_name = os.path.splitext(os.path.basename(in_file_name))[0]\n",
    "    out_file_name = os.path.join(output_dir, base_file_name + \".json\")\n",
    "    with open(in_file_name) as in_fs:\n",
    "        lines = in_fs.readlines()\n",
    "        \n",
    "    text_str = \"\".join(lines)\n",
    "    tokens = list(tokenize.tokenize(BytesIO(text_str.encode('utf-8')).readline))\n",
    "    print(tokens)\n",
    "    docstring = None\n",
    "    if tokens[1].type == 3:\n",
    "        docstring = tokens[1].string\n",
    "    \n",
    "    out_dict = {\"docstring\" : docstring,\n",
    "                \"map_and_model\" : None,\n",
    "                \"constants\" : None,\n",
    "                \"monitors\" : None,\n",
    "                \"behaviors\" : None,\n",
    "                \"spatial_relations\" : None,\n",
    "                \"scenario\" : None,\n",
    "                \"background\" : None}\n",
    "\n",
    "    current_doc = None\n",
    "    line = 1\n",
    "    for token in tokens:\n",
    "        if token.type == 61: # Comment Type\n",
    "            if \"map\" in token.string.lower():\n",
    "                current_doc = \"map_and_model\"\n",
    "            elif \"constants\" in token.string.lower():\n",
    "                current_doc = \"constants\"\n",
    "            elif \"monitors\" in token.string.lower():\n",
    "                current_doc = \"monitors\"\n",
    "            elif \"behaviors\" in token.string.lower():\n",
    "                current_doc = \"behaviors\"\n",
    "            elif \"spatial relations\" in token.string.lower():\n",
    "                current_doc = \"spatial_relations\"\n",
    "            elif \"scenario\" in token.string.lower():\n",
    "                current_doc = \"scenario\"\n",
    "            elif \"background\" in token.string.lower():\n",
    "                current_doc = \"background\"\n",
    "        else:\n",
    "            if current_doc is not None and out_dict[current_doc] is not None and token.start[0] != line:\n",
    "                out_dict[current_doc] += token.line\n",
    "            elif current_doc is not None and out_dict[current_doc] is None and token.start[0] != line:\n",
    "                out_dict[current_doc] = token.string\n",
    "        line = token.end[0]\n",
    "\n",
    "    with open(out_file_name, \"w\") as out_fs:\n",
    "        json.dump(out_dict, out_fs, indent=2)\n",
    "\n",
    "convert_file(\"/home/xiaoyc/Jaredan/SceGenWithLLM/data_scenic/Carla_Challenge/carlaChallenge1.scenic\", \"./\")\n",
    "\n"
   ]
  },
  {
   "cell_type": "code",
   "execution_count": null,
   "metadata": {},
   "outputs": [],
   "source": []
  }
 ],
 "metadata": {
  "kernelspec": {
   "display_name": "openai",
   "language": "python",
   "name": "python3"
  },
  "language_info": {
   "codemirror_mode": {
    "name": "ipython",
    "version": 3
   },
   "file_extension": ".py",
   "mimetype": "text/x-python",
   "name": "python",
   "nbconvert_exporter": "python",
   "pygments_lexer": "ipython3",
   "version": "3.10.14"
  }
 },
 "nbformat": 4,
 "nbformat_minor": 2
}
