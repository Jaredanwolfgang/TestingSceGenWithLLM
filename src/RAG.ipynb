{
 "cells": [
  {
   "cell_type": "code",
   "execution_count": null,
   "metadata": {},
   "outputs": [],
   "source": [
    "import os\n",
    "import json\n",
    "import tiktoken\n",
    "import scenic\n",
    "from langchain_openai import ChatOpenAI\n",
    "from langchain_core.pydantic_v1 import BaseModel, Field\n",
    "from OutputParser import Scenic_output"
   ]
  },
  {
   "cell_type": "code",
   "execution_count": null,
   "metadata": {},
   "outputs": [],
   "source": [
    "# Basic Configurations for OpenAI\n",
    "os.environ[\"OPEN_AI_API_KEY\"] = \"sk-gDa1bvL8Ian5Rkdq186bFbDeBf904447B4C707409e660dB6\"\n",
    "model_name = \"gpt-3.5-turbo\"\n",
    "model = ChatOpenAI(\n",
    "    model_name=model_name,\n",
    "    max_tokens=2048,\n",
    "    temperature=0,\n",
    "    openai_api_key=os.environ[\"OPEN_AI_API_KEY\"],\n",
    "    openai_api_base=\"https://apikeyplus.com/v1\"\n",
    ")"
   ]
  },
  {
   "cell_type": "code",
   "execution_count": null,
   "metadata": {},
   "outputs": [],
   "source": []
  }
 ],
 "metadata": {
  "kernelspec": {
   "display_name": "openai",
   "language": "python",
   "name": "python3"
  },
  "language_info": {
   "name": "python",
   "version": "3.10.14"
  }
 },
 "nbformat": 4,
 "nbformat_minor": 2
}
